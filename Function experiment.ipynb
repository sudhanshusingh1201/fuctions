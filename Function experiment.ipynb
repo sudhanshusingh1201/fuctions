{
 "cells": [
  {
   "cell_type": "markdown",
   "id": "c163007a-9c64-45fc-89b8-079c8530c902",
   "metadata": {},
   "source": [
    "# 1.What is the difference between a function and a method in Python?"
   ]
  },
  {
   "cell_type": "markdown",
   "id": "20a2bcac-7ca7-49dd-b00b-34f8b3ad6635",
   "metadata": {},
   "source": [
    "# Ans-\n",
    "Function>>A function is independent and can be called on its own.\n",
    "          Functions are created using the def keyword, followed by a name and parameters (if any).\n",
    "          Functions don’t have the self parameter unless explicitly defined.\n",
    "Methods>>A method is similar to a function, but it is associated with an object or a class. \n",
    "         A method is a function that is bound to the object or class, meaning it operates on the instance of that class.\n",
    "         Methods usually have self as their first parameter to refer to the object the method is called on."
   ]
  },
  {
   "cell_type": "code",
   "execution_count": 20,
   "id": "c20cb085-6870-419d-9f93-abce6cb12874",
   "metadata": {},
   "outputs": [
    {
     "data": {
      "text/plain": [
       "7"
      ]
     },
     "execution_count": 20,
     "metadata": {},
     "output_type": "execute_result"
    }
   ],
   "source": [
    "# example of function\n",
    "def add(x, y):\n",
    "    return x + y\n",
    "add(3, 4)"
   ]
  },
  {
   "cell_type": "code",
   "execution_count": 21,
   "id": "89b77991-5ed9-40ff-8e2e-754e5306b8e2",
   "metadata": {},
   "outputs": [
    {
     "data": {
      "text/plain": [
       "12"
      ]
     },
     "execution_count": 21,
     "metadata": {},
     "output_type": "execute_result"
    }
   ],
   "source": [
    "# example of method\n",
    "class Calculator:\n",
    "    def multiply(self, x, y):\n",
    "        return x * y\n",
    "calc = Calculator()\n",
    "calc.multiply(3, 4)\n"
   ]
  },
  {
   "cell_type": "markdown",
   "id": "fc2c7203-d2e2-4817-b070-70a09ed3eeae",
   "metadata": {},
   "source": [
    "# 2. Explain the concept of function arguments and parameters in Python."
   ]
  },
  {
   "cell_type": "markdown",
   "id": "9a3f1b8b-050f-4ef3-95d8-b103484c51b1",
   "metadata": {},
   "source": [
    "# Ans-\n",
    "In Python>>function arguments and parameters are key concepts that allow you to pass values to functions and control how the function behaves.\n",
    "Function Parameter>>refers to a variable listed within the function definition, acting as a placeholder for the values that will be passed in \n",
    "when the function is called.\n",
    "Function Argument>>while a function argument is the actual value that is provided to the function.\n",
    "when it's invoked, essentially filling in the parameter's place and allowing the function to perform operations on that specific data.\n",
    "\"parameters are the names in the function definition, and arguments are the values you give them when calling the function\"."
   ]
  },
  {
   "cell_type": "code",
   "execution_count": 23,
   "id": "f658d151-8d25-43d6-bea2-11b45c11fff8",
   "metadata": {},
   "outputs": [
    {
     "name": "stdout",
     "output_type": "stream",
     "text": [
      "Hello, my name is Alice and I am 25 years old.\n"
     ]
    }
   ],
   "source": [
    "# Example of function parameter\n",
    "def greet(name, age): \n",
    "    print(f\"Hello, my name is {name} and I am {age} years old.\")\n",
    "# example of fun argument\n",
    "greet(\"Alice\", 25)"
   ]
  },
  {
   "cell_type": "markdown",
   "id": "79b05fbe-d093-4b55-8690-c2ad0bee9ae7",
   "metadata": {},
   "source": [
    "# 3. What are the different ways to define and call a function in Python?"
   ]
  },
  {
   "cell_type": "markdown",
   "id": "3080bfb3-8e53-4169-b7c1-ca71473b083f",
   "metadata": {},
   "source": [
    "# Ans-\n",
    "Different ways to define and call functions in Python. \n",
    "* Function declaration>>This is the most common way to define a function, where you give it a name and specify its code block.\n",
    "* Function expression>>A function is assigned to a variable, allowing for dynamic function creation.\n",
    "* Arrow functions>>\n",
    "A concise syntax often used for short, single-line functions\n",
    "* Parameter passing>>.When calling a function, you can provide values to be used within the function, which can be passed by value or by reference.\n",
    "* Recursive Functions>>is a function that calls itself. "
   ]
  },
  {
   "cell_type": "code",
   "execution_count": 26,
   "id": "3fd8d90e-900a-447e-b258-0cd98d714866",
   "metadata": {},
   "outputs": [
    {
     "data": {
      "text/plain": [
       "120"
      ]
     },
     "execution_count": 26,
     "metadata": {},
     "output_type": "execute_result"
    }
   ],
   "source": [
    "def factorial(n):\n",
    "    if n == 0:\n",
    "        return 1\n",
    "    else:\n",
    "        return n * factorial(n - 1)\n",
    "factorial(5) "
   ]
  },
  {
   "cell_type": "markdown",
   "id": "49fa24b7-6662-4e9c-8f7f-1591aed0ca89",
   "metadata": {},
   "source": [
    "# 4.What is the purpose of the `return` statement in a Python function?"
   ]
  },
  {
   "cell_type": "markdown",
   "id": "eae15854-4bde-4210-b4ac-1fe1f71f74bc",
   "metadata": {},
   "source": [
    "# Ans-\n",
    "The return statement in a Python function serves to exit the function and send a result back to the caller.\n",
    "When a function is called, it can perform some operations, and then the return statement specifies the value that should be passed back to where the function was called."
   ]
  },
  {
   "cell_type": "code",
   "execution_count": 27,
   "id": "86848048-a4d7-428a-8861-81c92085527f",
   "metadata": {},
   "outputs": [
    {
     "name": "stdout",
     "output_type": "stream",
     "text": [
      "7\n"
     ]
    }
   ],
   "source": [
    "# Example\n",
    "def add(x, y):\n",
    "    result = x + y\n",
    "    return result  # Return the result to the caller\n",
    "\n",
    "sum_value = add(3, 4)  # Calls the function and stores the result\n",
    "print(sum_value)  \n"
   ]
  },
  {
   "cell_type": "markdown",
   "id": "99b6b630-6e7f-44ce-ab3c-b6f12d3f1b9c",
   "metadata": {},
   "source": [
    "# 5.What are iterators in Python and how do they differ from iterables?\n"
   ]
  },
  {
   "cell_type": "markdown",
   "id": "e9855c58-f447-4144-8e71-2c04dd3a96ff",
   "metadata": {},
   "source": [
    "# ans-\n",
    "Iterators>>An itrrator is an object representing a stream of data>> capable of returning its members one at a time, allowing it to be iterated over in a loop.\n",
    "example>>\n",
    "* Lists,Tuples and Strings.\n",
    "And they are differ from iterables bcoz iterables are objects that can be looped over, and iterators are objects that do the actual looping."
   ]
  },
  {
   "cell_type": "markdown",
   "id": "d4324d8f-a106-4661-b3e9-f76af479c19e",
   "metadata": {},
   "source": [
    "# 6. Explain the concept of generators in Python and how they are defined."
   ]
  },
  {
   "cell_type": "markdown",
   "id": "66e8c9aa-c060-4e30-93fd-eb4ef4ef7895",
   "metadata": {},
   "source": [
    "# Ans-\n",
    "A generator function is a special type of function that returns an iterator object. Instead of using return to send back a single value, generator functions use yield to produce a series of results over time. This allows the function to generate values and pause its execution after each yield, maintaining its state between iterations."
   ]
  },
  {
   "cell_type": "code",
   "execution_count": 35,
   "id": "be93c2d1-0b17-470e-aeb6-efc9e3b8de7e",
   "metadata": {},
   "outputs": [
    {
     "name": "stdout",
     "output_type": "stream",
     "text": [
      "0\n",
      "1\n",
      "4\n",
      "9\n",
      "16\n",
      "25\n",
      "36\n",
      "49\n",
      "64\n",
      "81\n"
     ]
    }
   ],
   "source": [
    "# Example\n",
    "def square_no(n):\n",
    "    for i in range(n):\n",
    "        yield i**2\n",
    "gen = square_no(10)\n",
    "for square in gen:\n",
    "    print(square)\n"
   ]
  },
  {
   "cell_type": "markdown",
   "id": "0330c392-e9a1-44f1-9243-16e5b49dacaf",
   "metadata": {},
   "source": [
    "# 7. What are the advantages of using generators over regular functions?"
   ]
  },
  {
   "cell_type": "markdown",
   "id": "db9df4ff-5fc8-4b27-9769-cfbd50be58c0",
   "metadata": {},
   "source": [
    "# Ans-\n",
    "Generators are ideal for processing large datasets or infinite sequences efficiently, with simpler and more memory-conscious code.\n",
    " The advantages of using generators over regular functions are:-\n",
    " * Memory Efficiency>>using less memory compared to storing entire sequences in memory.\n",
    " * Performance>>They compute values lazily, which speeds up execution when only part of the data is needed.\n",
    " * Code Simplicity>> Using yield makes the code cleaner and easier to read for iterative tasks.\n",
    " * Pipelining>>Generators work well for chaining operations, such as processing data step-by-step.\n",
    " * Reusability>>You can create new generator instances to regenerate values.\n"
   ]
  },
  {
   "cell_type": "markdown",
   "id": "bb1e5792-275d-4e33-8ef3-5ba515501317",
   "metadata": {},
   "source": [
    "# 8.What is a lambda function in Python and when is it typically used?\n"
   ]
  },
  {
   "cell_type": "markdown",
   "id": "d19ca072-50cc-4d89-a4fc-7f36a2766b86",
   "metadata": {},
   "source": [
    "# Ans-\n",
    "A lambda function in Python is a small anonymous function that is defined using the lambda keyword.It can take any number of arguments but can only have a single expression. The result of the expression is automatically returned by the function.\n",
    "Syntax>>lambda arguments: expression>>no need of return statement and def keyword.\n",
    "It is typically used in:-\n",
    "* Short Functions>>Lambda functions are useful when you need a small function for a short duration, typically passed to functions like map(), filter(), or sorted().\n",
    "* Functional Programming>>They are commonly used in functional programming paradigms, where functions are treated as first-class objects.\n",
    "* Quick Operations>>They are useful for simple operations that don't justify the overhead of defining a full function using \"def\".\n",
    "\n"
   ]
  },
  {
   "cell_type": "code",
   "execution_count": 36,
   "id": "133da0f5-5c4c-43b2-84c3-c236aaa6b06c",
   "metadata": {},
   "outputs": [
    {
     "name": "stdout",
     "output_type": "stream",
     "text": [
      "[1, 4, 9, 16]\n"
     ]
    }
   ],
   "source": [
    "# Example\n",
    "L = [1, 2, 3, 4]\n",
    "squares = map(lambda x: x**2, L)\n",
    "print(list(squares))  \n"
   ]
  },
  {
   "cell_type": "markdown",
   "id": "387acedb-7024-4e71-9706-6494cfc9d1bc",
   "metadata": {},
   "source": [
    "# 9. Explain the purpose and usage of the `map()` function in Python?\n"
   ]
  },
  {
   "cell_type": "markdown",
   "id": "5f22ee48-b790-4d12-8ee5-b98f04f159cd",
   "metadata": {},
   "source": [
    "# Ans-\n",
    "The map() function in Python is a built-in function that allows you to apply a given function to each item of an iterable (like a list, tuple, etc.), and return a map object (an iterator) that contains the results.\n",
    "syntax>>map(function, iterable)\n",
    "* Transform Data>>It allows you to transform data in an iterable, applying the function to each item.\n",
    "* Avoid Loops>>It eliminates the need for manual looping to apply a function to each item in an iterable.\r\n"
   ]
  },
  {
   "cell_type": "code",
   "execution_count": 39,
   "id": "c7b9a789-6a25-480b-8301-9e78dea4c096",
   "metadata": {},
   "outputs": [
    {
     "name": "stdout",
     "output_type": "stream",
     "text": [
      "[5, 7, 9]\n"
     ]
    }
   ],
   "source": [
    "#Use of the map()\n",
    "a = [1, 2, 3]\n",
    "b = [4, 5, 6]\n",
    "result = map(lambda x, y: x + y, a, b)\n",
    "print(list(result))\n"
   ]
  },
  {
   "cell_type": "markdown",
   "id": "ba3a9842-9c08-4361-b20e-01eaec2ae492",
   "metadata": {},
   "source": [
    "# 10.What is the difference between `map()`, `reduce()`, and `filter()` functions in Python?"
   ]
  },
  {
   "cell_type": "markdown",
   "id": "a3a67238-57c4-4829-927c-0525642d4159",
   "metadata": {},
   "source": [
    "# Ans-\n",
    "In map()>>function is used to apply a function to each item in an iterable or multiple iterables and returns an iterator of the results.\n",
    "It's used when you want to transform or modify each element in an iterable.\n",
    "syntax>>map(function, iterable)\n",
    "\r\n",
    "In reduce()>Function is used to apply a function cumulatively to the items of an iterable, reducing the iterable to a single value.\n",
    "It's used when you want to accumulate or combine all elements in an iterable into a single result, such as computing a sum, product, or concatenating strings.>syntax>>from functools import reduce\r\n",
    "reduce(function, iterabl]\n",
    "\n",
    "In filter()>>function is used to filter out elements from an iterable based on a condition. It returns an iterator that contains only those elements for which the function returns True.\n",
    "It's used when you want to filter an iterable by applying a condition (predicate) to each item, keeping only the items that satisfy the condition)syntax>>filter(function, iterable)\r\n",
    "\r\n",
    "\n"
   ]
  },
  {
   "cell_type": "code",
   "execution_count": 41,
   "id": "5b818631-c590-49d8-8bc5-9fd3e0e2030e",
   "metadata": {},
   "outputs": [
    {
     "name": "stdout",
     "output_type": "stream",
     "text": [
      "[1, 4, 9, 16]\n",
      "24\n",
      "[2, 4]\n"
     ]
    }
   ],
   "source": [
    "# Example of map()\n",
    "numbers = [1, 2, 3, 4]\n",
    "squares = map(lambda x: x ** 2, numbers)\n",
    "print(list(squares))\n",
    "\n",
    "# Example of reduce()\n",
    "from functools import reduce\n",
    "\n",
    "numbers = [1, 2, 3, 4]\n",
    "product = reduce(lambda x, y: x * y, numbers)\n",
    "print(product)\n",
    "\n",
    "# Example of filter()\n",
    "numbers = [1, 2, 3, 4, 5]\n",
    "evens = filter(lambda x: x % 2 == 0, numbers)\n",
    "print(list(evens)) \n"
   ]
  },
  {
   "cell_type": "markdown",
   "id": "cda3068a-92ae-4abf-ace5-161c97e4ef7b",
   "metadata": {},
   "source": [
    "# 11.. Using pen & Paper write the internal mechanism for sum operation using  reduce function on this given\r\n",
    "list:[47,11,42,13]; "
   ]
  },
  {
   "cell_type": "code",
   "execution_count": null,
   "id": "6d76cf13-ed52-4dd8-856a-ce6f56335ca9",
   "metadata": {},
   "outputs": [],
   "source": []
  },
  {
   "cell_type": "markdown",
   "id": "fea2a7fb-e103-4f99-b04d-fee5a04d5ed9",
   "metadata": {},
   "source": [
    "# Practical Questions:"
   ]
  },
  {
   "cell_type": "markdown",
   "id": "b0cbce60-5b8e-4591-867f-2f8a5c3078c2",
   "metadata": {},
   "source": [
    "# 1. Write a Python function that takes a list of numbers as input and returns the sum of all even numbers in \n",
    "the lst.."
   ]
  },
  {
   "cell_type": "code",
   "execution_count": 42,
   "id": "0b660977-9552-45eb-a1a8-00beb843f3f0",
   "metadata": {},
   "outputs": [
    {
     "name": "stdout",
     "output_type": "stream",
     "text": [
      "20\n"
     ]
    }
   ],
   "source": [
    "def sum_of_even_numbers(numbers):\n",
    "    even_numbers = filter(lambda x: x % 2 == 0, numbers)\n",
    "    return sum(even_numbers)\n",
    "numbers = [1, 2, 3, 4, 5, 6, 7, 8]\n",
    "result = sum_of_even_numbers(numbers)\n",
    "print(result) \n"
   ]
  },
  {
   "cell_type": "markdown",
   "id": "585033fc-b124-474b-a8ea-62d88003cddc",
   "metadata": {},
   "source": [
    "# 2. Create a Python function that accepts a string and returns the reverse of that string."
   ]
  },
  {
   "cell_type": "code",
   "execution_count": 2,
   "id": "1f90058e-930b-4754-ac23-a0a3826c3dc4",
   "metadata": {},
   "outputs": [
    {
     "name": "stdout",
     "output_type": "stream",
     "text": [
      "kitiR\n"
     ]
    }
   ],
   "source": [
    "def reverse_string(input_string):\n",
    "    return input_string[::-1]\n",
    "result = reverse_string(\"Ritik\")\n",
    "print(result)\n"
   ]
  },
  {
   "cell_type": "markdown",
   "id": "f31fa3c6-602c-4bc6-83bb-c16d1da0e20d",
   "metadata": {},
   "source": [
    "# 3. Implement a Python function that takes a list of integers and returns a new list containing the squares of each number."
   ]
  },
  {
   "cell_type": "code",
   "execution_count": null,
   "id": "4804b394-7d16-4f62-ad65-07116a422e20",
   "metadata": {},
   "outputs": [],
   "source": []
  },
  {
   "cell_type": "code",
   "execution_count": 3,
   "id": "9186c951-058d-4df5-9acf-56a30e248b50",
   "metadata": {},
   "outputs": [
    {
     "name": "stdout",
     "output_type": "stream",
     "text": [
      "[1, 4, 9, 16, 25]\n"
     ]
    }
   ],
   "source": [
    "def square_numbers(input_list):\n",
    "    return [x ** 2 for x in input_list]\n",
    "numbers = [1, 2, 3, 4, 5]\n",
    "squared_numbers = square_numbers(numbers)\n",
    "print(squared_numbers) \n"
   ]
  },
  {
   "cell_type": "markdown",
   "id": "ff1e27e0-a5b5-41aa-b638-b76c735814db",
   "metadata": {},
   "source": [
    "# 4. Write a Python function that checks if a given number is prime or not from 1 to 200."
   ]
  },
  {
   "cell_type": "code",
   "execution_count": 5,
   "id": "755400c4-4d62-455f-9856-d2e73d21b3cd",
   "metadata": {},
   "outputs": [
    {
     "name": "stdout",
     "output_type": "stream",
     "text": [
      "2 is prime\n",
      "3 is prime\n",
      "5 is prime\n",
      "7 is prime\n",
      "11 is prime\n",
      "13 is prime\n",
      "17 is prime\n",
      "19 is prime\n",
      "23 is prime\n",
      "29 is prime\n",
      "31 is prime\n",
      "37 is prime\n",
      "41 is prime\n",
      "43 is prime\n",
      "47 is prime\n",
      "53 is prime\n",
      "59 is prime\n",
      "61 is prime\n",
      "67 is prime\n",
      "71 is prime\n",
      "73 is prime\n",
      "79 is prime\n",
      "83 is prime\n",
      "89 is prime\n",
      "97 is prime\n",
      "101 is prime\n",
      "103 is prime\n",
      "107 is prime\n",
      "109 is prime\n",
      "113 is prime\n",
      "127 is prime\n",
      "131 is prime\n",
      "137 is prime\n",
      "139 is prime\n",
      "149 is prime\n",
      "151 is prime\n",
      "157 is prime\n",
      "163 is prime\n",
      "167 is prime\n",
      "173 is prime\n",
      "179 is prime\n",
      "181 is prime\n",
      "191 is prime\n",
      "193 is prime\n",
      "197 is prime\n",
      "199 is prime\n"
     ]
    }
   ],
   "source": [
    "def is_prime(n):\n",
    "    if n <= 1:\n",
    "        return False\n",
    "    for i in range(2, int(n**0.5) + 1):\n",
    "        if n % i == 0:\n",
    "            return False\n",
    "    return True\n",
    "for num in range(1, 201):\n",
    "    if is_prime(num):\n",
    "        print(f\"{num} is prime\")\n"
   ]
  },
  {
   "cell_type": "markdown",
   "id": "cd95779a-230b-47f1-9bc1-8890146ac015",
   "metadata": {},
   "source": [
    "# 5. Create an iterator class in Python that generates the Fibonacci sequence up to a specified number of terms."
   ]
  },
  {
   "cell_type": "code",
   "execution_count": 7,
   "id": "d5d6ef70-8cf1-4c32-92d0-132de783bd6a",
   "metadata": {},
   "outputs": [
    {
     "name": "stdout",
     "output_type": "stream",
     "text": [
      "0\n",
      "1\n",
      "1\n",
      "2\n",
      "3\n",
      "5\n",
      "8\n",
      "13\n",
      "21\n",
      "34\n"
     ]
    }
   ],
   "source": [
    "class FibonacciIterator:\n",
    "    def __init__(self, n):\n",
    "        self.n = n \n",
    "        self.a, self.b = 0, 1 \n",
    "        self.count = 0 \n",
    "    \n",
    "    def __iter__(self):\n",
    "        return self \n",
    "    \n",
    "    def __next__(self):\n",
    "        if self.count < self.n:\n",
    "            fib_number = self.a\n",
    "            self.a, self.b = self.b, self.a + self.b  \n",
    "            self.count += 1\n",
    "            return fib_number\n",
    "        else:\n",
    "            raise StopIteration \n",
    "fib_iterator = FibonacciIterator(10)  \n",
    "\n",
    "for num in fib_iterator:\n",
    "    print(num)\n"
   ]
  },
  {
   "cell_type": "markdown",
   "id": "97a7fb54-d91a-4403-b6f9-a1891ec87fd7",
   "metadata": {},
   "source": [
    "# 6. Write a generator function in Python that yields the powers of 2 up to a given exponent.\n",
    "\n"
   ]
  },
  {
   "cell_type": "code",
   "execution_count": 9,
   "id": "dd68358f-1aed-49ba-841a-40fc6c5b0572",
   "metadata": {},
   "outputs": [
    {
     "name": "stdout",
     "output_type": "stream",
     "text": [
      "1\n",
      "2\n",
      "4\n",
      "8\n",
      "16\n",
      "32\n",
      "64\n",
      "128\n"
     ]
    }
   ],
   "source": [
    "def powers_of_2(exponent):\n",
    "    for i in range(exponent + 1):\n",
    "        yield 2 ** i\n",
    "for power in powers_of_2(7):\n",
    "    print(power)\n"
   ]
  },
  {
   "cell_type": "markdown",
   "id": "e1f20242-acf5-4ed7-90bd-844c8db92036",
   "metadata": {},
   "source": [
    " # 7. Implement a generator function that reads a file line by line and yields each line as a string."
   ]
  },
  {
   "cell_type": "code",
   "execution_count": null,
   "id": "ce0cbc81-c4de-4210-9db2-90494464c428",
   "metadata": {},
   "outputs": [],
   "source": [
    "file_path = \"C:\\\\Users\\\\Administrator\\\\OneDrive\\\\Desktop\\\\lab\\\\your_file.txt\"\n",
    "def read_file_line_by_line(file_path):\n",
    "    with open(file_path, 'r') as file:\n",
    "        for line in file:\n",
    "            yield line.strip() \n",
    "sample_file_path = '/mnt/data/sample_file.txt'\n",
    "with open(sample_file_path, 'w') as f:\n",
    "    f.write(\"Hello, world!\\n\")\n",
    "    f.write(\"This is a test file.\\n\")\n",
    "    f.write(\"We are reading it line by line.\\n\")\n",
    "for line in read_file_line_by_line(sample_file_path):\n",
    "    print(line)\n",
    "\n"
   ]
  },
  {
   "cell_type": "markdown",
   "id": "ad5456aa-8763-4fac-acc9-f89cf84ec56a",
   "metadata": {},
   "source": [
    "# 8. Use a lambda function in Python to sort a list of tuples based on the second element of each tuple."
   ]
  },
  {
   "cell_type": "code",
   "execution_count": 17,
   "id": "d80c14d2-8de5-4779-81c0-5bd054260bfd",
   "metadata": {},
   "outputs": [
    {
     "name": "stdout",
     "output_type": "stream",
     "text": [
      "[(2, 1), (3, 2), (1, 5), (4, 7)]\n"
     ]
    }
   ],
   "source": [
    "tuples = [(1, 5), (3, 2), (4, 7), (2, 1)]\n",
    "sorted_tuples = sorted(tuples, key=lambda x: x[1])\n",
    "print(sorted_tuples)\n"
   ]
  },
  {
   "cell_type": "markdown",
   "id": "418ff6b0-12ee-45ce-bad5-8d46be04e24b",
   "metadata": {},
   "source": [
    "# 9.  Write a Python program that uses `map()` to convert a list of temperatures from Celsius to Fahrenheit."
   ]
  },
  {
   "cell_type": "code",
   "execution_count": 19,
   "id": "c62eb767-aa2d-4e62-9d0a-efab508af37e",
   "metadata": {},
   "outputs": [
    {
     "name": "stdout",
     "output_type": "stream",
     "text": [
      "[32.0, 68.0, 77.0, 86.0, 95.0, 104.0]\n"
     ]
    }
   ],
   "source": [
    "def celsius_to_fahrenheit(celsius):\n",
    "    return (celsius * 9/5) + 32\n",
    "celsius_temps = [0, 20, 25, 30, 35, 40]\n",
    "fahrenheit_temps = list(map(celsius_to_fahrenheit, celsius_temps))\n",
    "print(fahrenheit_temps)\n"
   ]
  },
  {
   "cell_type": "markdown",
   "id": "2a2bff85-6f06-4e8f-a65c-f8cf83e651da",
   "metadata": {},
   "source": [
    "# 10. Create a Python program that uses `filter()` to remove all the vowels from a given string."
   ]
  },
  {
   "cell_type": "code",
   "execution_count": 20,
   "id": "9b4d257e-8ba5-40f2-9969-fe2ce51fa847",
   "metadata": {},
   "outputs": [
    {
     "name": "stdout",
     "output_type": "stream",
     "text": [
      "Hll Wrld!\n"
     ]
    }
   ],
   "source": [
    "def is_not_vowel(char):\n",
    "    return char.lower() not in 'aeiou'\n",
    "input_string = \"Hello World!\"\n",
    "filtered_string = ''.join(filter(is_not_vowel, input_string))\n",
    "print(filtered_string)\n"
   ]
  },
  {
   "cell_type": "code",
   "execution_count": 21,
   "id": "d576d3a8-538c-4fd9-b572-de9bfd6cf22f",
   "metadata": {},
   "outputs": [
    {
     "name": "stdout",
     "output_type": "stream",
     "text": [
      "[(34587, 163.8), (98762, 170.39999999999998), (77226, 108.85000000000001), (88112, 34.989999999999995)]\n"
     ]
    }
   ],
   "source": [
    "orders = [\n",
    "    [34587, \"Learning Python, Mark Lutz\", 4, 40.95],\n",
    "    [98762, \"Programming Python, Mark Lutz\", 3, 56.80],\n",
    "    [77226, \"Head First Python, Paul Barry\", 3, 32.95],\n",
    "    [88112, \"Einführung in Python3, Bernd Klein\", 1, 24.99]\n",
    "]\n",
    "def calculate_total(order):\n",
    "    order_number, title_author, quantity, price_per_item = order\n",
    "    total_price = quantity * price_per_item\n",
    "    if total_price < 100.00:\n",
    "        total_price += 10.00\n",
    "    return (order_number, total_price)\n",
    "result = list(map(lambda order: calculate_total(order), orders))\n",
    "print(result)\n"
   ]
  },
  {
   "cell_type": "markdown",
   "id": "0de7f556-20b2-4aac-9f1f-a446422e36d3",
   "metadata": {},
   "source": [
    "# 11. 11) Imagine an accounting routine used in a book shop. It works on a list with sublists, which look like this:\n",
    "# order number          Book Title and Author                         Quantity               Price per Item\n",
    "\n",
    "# 34587                 Learning Python, Mark Lutz                      4                        40.95     \n",
    "# 98762                 Programming Python, Mark Lutz                   5                        56.80\n",
    "# 77226                 Head First Python, Paul Barry                   3                        32.95\n",
    "# 88112                 Einführung in Python3, Bernd Klein              3                        24.99\n",
    "\n",
    "# Write a Python program, which returns a list with 2-tuples. Each tuple consists of the order number and the\n",
    "# product of the price per item and the quantity. The product should be increased by 10,- € if the value of the\n",
    "# order is smaller than 100,00 €.\n",
    "\n",
    "# Write a Python program using lambda and map."
   ]
  },
  {
   "cell_type": "code",
   "execution_count": 22,
   "id": "06b8ecd6-c75b-441f-a671-67904ab79766",
   "metadata": {},
   "outputs": [
    {
     "name": "stdout",
     "output_type": "stream",
     "text": [
      "[(34587, 163.8), (98762, 170.39999999999998), (77226, 108.85000000000001), (88112, 34.989999999999995)]\n"
     ]
    }
   ],
   "source": [
    "orders = [\n",
    "    [34587, \"Learning Python, Mark Lutz\", 4, 40.95],\n",
    "    [98762, \"Programming Python, Mark Lutz\", 3, 56.80],\n",
    "    [77226, \"Head First Python, Paul Barry\", 3, 32.95],\n",
    "    [88112, \"Einführung in Python3, Bernd Klein\", 1, 24.99]\n",
    "]\n",
    "def calculate_total(order):\n",
    "    order_number, title_author, quantity, price_per_item = order\n",
    "    total_price = quantity * price_per_item\n",
    "    if total_price < 100.00:\n",
    "        total_price += 10.00\n",
    "    return (order_number, total_price)\n",
    "result = list(map(lambda order: calculate_total(order), orders))\n",
    "print(result)\n"
   ]
  },
  {
   "cell_type": "code",
   "execution_count": null,
   "id": "11cac349-58a1-4d3a-adcf-d05acaf8cdc8",
   "metadata": {},
   "outputs": [],
   "source": []
  }
 ],
 "metadata": {
  "kernelspec": {
   "display_name": "Python 3 (ipykernel)",
   "language": "python",
   "name": "python3"
  },
  "language_info": {
   "codemirror_mode": {
    "name": "ipython",
    "version": 3
   },
   "file_extension": ".py",
   "mimetype": "text/x-python",
   "name": "python",
   "nbconvert_exporter": "python",
   "pygments_lexer": "ipython3",
   "version": "3.11.7"
  }
 },
 "nbformat": 4,
 "nbformat_minor": 5
}
